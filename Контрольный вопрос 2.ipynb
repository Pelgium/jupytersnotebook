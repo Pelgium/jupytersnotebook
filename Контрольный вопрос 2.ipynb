{
 "cells": [
  {
   "cell_type": "code",
   "execution_count": 24,
   "metadata": {},
   "outputs": [
    {
     "name": "stdout",
     "output_type": "stream",
     "text": [
      "Введите P\n",
      "11\n",
      "P - простое число\n"
     ]
    }
   ],
   "source": [
    "print(\"Введите P\")\n",
    "P = int(input())\n",
    "if P==2 or P==3 or P==5 or P==7:\n",
    "    print(\"P - простое число\")\n",
    "elif P%2!=0 and P%3!=0 and P%5!=0 and P%7!=0:\n",
    "    print(\"P - простое число\")\n",
    "else:\n",
    "    print(\"P - не является простым\")"
   ]
  },
  {
   "cell_type": "code",
   "execution_count": null,
   "metadata": {},
   "outputs": [],
   "source": []
  }
 ],
 "metadata": {
  "kernelspec": {
   "display_name": "Python 3",
   "language": "python",
   "name": "python3"
  },
  "language_info": {
   "codemirror_mode": {
    "name": "ipython",
    "version": 3
   },
   "file_extension": ".py",
   "mimetype": "text/x-python",
   "name": "python",
   "nbconvert_exporter": "python",
   "pygments_lexer": "ipython3",
   "version": "3.7.6"
  }
 },
 "nbformat": 4,
 "nbformat_minor": 2
}
